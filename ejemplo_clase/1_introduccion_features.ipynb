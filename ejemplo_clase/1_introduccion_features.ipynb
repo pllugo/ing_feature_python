{
 "cells": [
  {
   "cell_type": "markdown",
   "metadata": {
    "id": "uLPOr-8b1WvD"
   },
   "source": [
    "<a href=\"https://www.inove.com.ar\"><img src=\"https://raw.githubusercontent.com/InoveAlumnos/dataset_analytics_python/master/images/PA%20Banner.png\" width=\"1000\" align=\"center\"></a>\n",
    "\n",
    "\n",
    "# Ingeniería de feature\n",
    "\n",
    "Programa creado para mostrar ejemplos prácticos de los visto durante la clase<br>\n",
    "v1.1"
   ]
  },
  {
   "cell_type": "markdown",
   "metadata": {
    "id": "SBftKJxBVQ-9"
   },
   "source": [
    "# Primeros pasos en la ingeniería de características y scikit-learn"
   ]
  },
  {
   "cell_type": "markdown",
   "metadata": {
    "id": "EkFATpYfVUzT"
   },
   "source": [
    "## 1 - Ingeniería de features - Data augmentation"
   ]
  },
  {
   "cell_type": "code",
   "execution_count": 48,
   "metadata": {
    "executionInfo": {
     "elapsed": 2240,
     "status": "ok",
     "timestamp": 1603155089318,
     "user": {
      "displayName": "Hernán Contigiani",
      "photoUrl": "https://lh3.googleusercontent.com/a-/AOh14Ggvg04lTitIUU72BS6D299tXlZG8qalV594KkKRfg=s64",
      "userId": "01142101934719343059"
     },
     "user_tz": 180
    },
    "id": "yzvdYxQKO5uL"
   },
   "outputs": [],
   "source": [
    "import numpy as np\n",
    "import pandas as pd\n",
    "import matplotlib.pyplot as plt\n",
    "import seaborn as sns"
   ]
  },
  {
   "cell_type": "code",
   "execution_count": 49,
   "metadata": {
    "colab": {
     "base_uri": "https://localhost:8080/",
     "height": 266
    },
    "executionInfo": {
     "elapsed": 2605,
     "status": "ok",
     "timestamp": 1603155089691,
     "user": {
      "displayName": "Hernán Contigiani",
      "photoUrl": "https://lh3.googleusercontent.com/a-/AOh14Ggvg04lTitIUU72BS6D299tXlZG8qalV594KkKRfg=s64",
      "userId": "01142101934719343059"
     },
     "user_tz": 180
    },
    "id": "ZxHiXADRMv9b",
    "outputId": "bb263dfd-988b-43bb-ac7e-9fe87a905823"
   },
   "outputs": [
    {
     "data": {
      "text/html": [
       "<div>\n",
       "<style scoped>\n",
       "    .dataframe tbody tr th:only-of-type {\n",
       "        vertical-align: middle;\n",
       "    }\n",
       "\n",
       "    .dataframe tbody tr th {\n",
       "        vertical-align: top;\n",
       "    }\n",
       "\n",
       "    .dataframe thead th {\n",
       "        text-align: right;\n",
       "    }\n",
       "</style>\n",
       "<table border=\"1\" class=\"dataframe\">\n",
       "  <thead>\n",
       "    <tr style=\"text-align: right;\">\n",
       "      <th></th>\n",
       "      <th>Name</th>\n",
       "      <th>Age</th>\n",
       "      <th>Nationality</th>\n",
       "    </tr>\n",
       "  </thead>\n",
       "  <tbody>\n",
       "    <tr>\n",
       "      <th>0</th>\n",
       "      <td>Inove</td>\n",
       "      <td>12</td>\n",
       "      <td>Argentina</td>\n",
       "    </tr>\n",
       "    <tr>\n",
       "      <th>1</th>\n",
       "      <td>Python</td>\n",
       "      <td>29</td>\n",
       "      <td>Holanda</td>\n",
       "    </tr>\n",
       "    <tr>\n",
       "      <th>2</th>\n",
       "      <td>Max</td>\n",
       "      <td>35</td>\n",
       "      <td>Estados Unidos</td>\n",
       "    </tr>\n",
       "    <tr>\n",
       "      <th>3</th>\n",
       "      <td>Mirta</td>\n",
       "      <td>93</td>\n",
       "      <td>Argentina</td>\n",
       "    </tr>\n",
       "    <tr>\n",
       "      <th>4</th>\n",
       "      <td>Max</td>\n",
       "      <td>40</td>\n",
       "      <td>Estados Unidos</td>\n",
       "    </tr>\n",
       "    <tr>\n",
       "      <th>5</th>\n",
       "      <td>SQL</td>\n",
       "      <td>13</td>\n",
       "      <td>Inglaterra</td>\n",
       "    </tr>\n",
       "    <tr>\n",
       "      <th>6</th>\n",
       "      <td>SQLite</td>\n",
       "      <td>20</td>\n",
       "      <td>Estados Unidos</td>\n",
       "    </tr>\n",
       "  </tbody>\n",
       "</table>\n",
       "</div>"
      ],
      "text/plain": [
       "     Name  Age     Nationality\n",
       "0   Inove   12       Argentina\n",
       "1  Python   29         Holanda\n",
       "2     Max   35  Estados Unidos\n",
       "3   Mirta   93       Argentina\n",
       "4     Max   40  Estados Unidos\n",
       "5     SQL   13      Inglaterra\n",
       "6  SQLite   20  Estados Unidos"
      ]
     },
     "execution_count": 49,
     "metadata": {},
     "output_type": "execute_result"
    }
   ],
   "source": [
    "df = pd.DataFrame({\n",
    "      \"Name\": [\"Inove\", \"Python\", \"Max\",\n",
    "                \"Mirta\", \"Max\", \"SQL\", \"SQLite\"],\n",
    "      \"Age\": [12, 29, 35, 93, 40, 13, 20],\n",
    "      \"Nationality\": [\"Argentina\", \"Holanda\", \"Estados Unidos\",\n",
    "                      \"Argentina\", \"Estados Unidos\",\n",
    "                      \"Inglaterra\", \"Estados Unidos\"]}\n",
    "      )\n",
    "df"
   ]
  },
  {
   "cell_type": "code",
   "execution_count": 50,
   "metadata": {
    "colab": {
     "base_uri": "https://localhost:8080/",
     "height": 266
    },
    "executionInfo": {
     "elapsed": 2598,
     "status": "ok",
     "timestamp": 1603155089692,
     "user": {
      "displayName": "Hernán Contigiani",
      "photoUrl": "https://lh3.googleusercontent.com/a-/AOh14Ggvg04lTitIUU72BS6D299tXlZG8qalV594KkKRfg=s64",
      "userId": "01142101934719343059"
     },
     "user_tz": 180
    },
    "id": "tEPJcWe1sqEO",
    "outputId": "b2a70ca7-2273-4f99-b3d0-0ca56e0b0727"
   },
   "outputs": [
    {
     "data": {
      "text/html": [
       "<div>\n",
       "<style scoped>\n",
       "    .dataframe tbody tr th:only-of-type {\n",
       "        vertical-align: middle;\n",
       "    }\n",
       "\n",
       "    .dataframe tbody tr th {\n",
       "        vertical-align: top;\n",
       "    }\n",
       "\n",
       "    .dataframe thead th {\n",
       "        text-align: right;\n",
       "    }\n",
       "</style>\n",
       "<table border=\"1\" class=\"dataframe\">\n",
       "  <thead>\n",
       "    <tr style=\"text-align: right;\">\n",
       "      <th></th>\n",
       "      <th>Name</th>\n",
       "      <th>Age</th>\n",
       "      <th>Nationality</th>\n",
       "      <th>mayor_edad</th>\n",
       "    </tr>\n",
       "  </thead>\n",
       "  <tbody>\n",
       "    <tr>\n",
       "      <th>0</th>\n",
       "      <td>Inove</td>\n",
       "      <td>12</td>\n",
       "      <td>Argentina</td>\n",
       "      <td>False</td>\n",
       "    </tr>\n",
       "    <tr>\n",
       "      <th>1</th>\n",
       "      <td>Python</td>\n",
       "      <td>29</td>\n",
       "      <td>Holanda</td>\n",
       "      <td>True</td>\n",
       "    </tr>\n",
       "    <tr>\n",
       "      <th>2</th>\n",
       "      <td>Max</td>\n",
       "      <td>35</td>\n",
       "      <td>Estados Unidos</td>\n",
       "      <td>True</td>\n",
       "    </tr>\n",
       "    <tr>\n",
       "      <th>3</th>\n",
       "      <td>Mirta</td>\n",
       "      <td>93</td>\n",
       "      <td>Argentina</td>\n",
       "      <td>True</td>\n",
       "    </tr>\n",
       "    <tr>\n",
       "      <th>4</th>\n",
       "      <td>Max</td>\n",
       "      <td>40</td>\n",
       "      <td>Estados Unidos</td>\n",
       "      <td>True</td>\n",
       "    </tr>\n",
       "    <tr>\n",
       "      <th>5</th>\n",
       "      <td>SQL</td>\n",
       "      <td>13</td>\n",
       "      <td>Inglaterra</td>\n",
       "      <td>False</td>\n",
       "    </tr>\n",
       "    <tr>\n",
       "      <th>6</th>\n",
       "      <td>SQLite</td>\n",
       "      <td>20</td>\n",
       "      <td>Estados Unidos</td>\n",
       "      <td>False</td>\n",
       "    </tr>\n",
       "  </tbody>\n",
       "</table>\n",
       "</div>"
      ],
      "text/plain": [
       "     Name  Age     Nationality  mayor_edad\n",
       "0   Inove   12       Argentina       False\n",
       "1  Python   29         Holanda        True\n",
       "2     Max   35  Estados Unidos        True\n",
       "3   Mirta   93       Argentina        True\n",
       "4     Max   40  Estados Unidos        True\n",
       "5     SQL   13      Inglaterra       False\n",
       "6  SQLite   20  Estados Unidos       False"
      ]
     },
     "execution_count": 50,
     "metadata": {},
     "output_type": "execute_result"
    }
   ],
   "source": [
    "# Crear una nueva columna \"mayor de edad\" como resultado de analizar la edad y la nacionalidad\n",
    "df2 = df.copy()\n",
    "df2['mayor_edad'] = df2.apply(lambda x: True if x['Age'] >= 21 else True if (x['Age'] >= 18 and x['Nationality'] == 'Argentina') else False, axis=1)\n",
    "df2"
   ]
  },
  {
   "cell_type": "markdown",
   "metadata": {
    "id": "6qWz-_jWE99k"
   },
   "source": [
    "## 3 - Encoding"
   ]
  },
  {
   "cell_type": "markdown",
   "metadata": {
    "id": "ABIrSuJWGUiS"
   },
   "source": [
    "#### Label Encoding"
   ]
  },
  {
   "cell_type": "code",
   "execution_count": 51,
   "metadata": {
    "colab": {
     "base_uri": "https://localhost:8080/",
     "height": 283
    },
    "executionInfo": {
     "elapsed": 2590,
     "status": "ok",
     "timestamp": 1603155089693,
     "user": {
      "displayName": "Hernán Contigiani",
      "photoUrl": "https://lh3.googleusercontent.com/a-/AOh14Ggvg04lTitIUU72BS6D299tXlZG8qalV594KkKRfg=s64",
      "userId": "01142101934719343059"
     },
     "user_tz": 180
    },
    "id": "BzrQzU4nE9SH",
    "outputId": "976dab74-ce60-4c5e-c655-a721ccc8fb99"
   },
   "outputs": [
    {
     "name": "stdout",
     "output_type": "stream",
     "text": [
      "['Argentina' 'Estados Unidos' 'Holanda' 'Inglaterra']\n"
     ]
    },
    {
     "data": {
      "text/html": [
       "<div>\n",
       "<style scoped>\n",
       "    .dataframe tbody tr th:only-of-type {\n",
       "        vertical-align: middle;\n",
       "    }\n",
       "\n",
       "    .dataframe tbody tr th {\n",
       "        vertical-align: top;\n",
       "    }\n",
       "\n",
       "    .dataframe thead th {\n",
       "        text-align: right;\n",
       "    }\n",
       "</style>\n",
       "<table border=\"1\" class=\"dataframe\">\n",
       "  <thead>\n",
       "    <tr style=\"text-align: right;\">\n",
       "      <th></th>\n",
       "      <th>Name</th>\n",
       "      <th>Age</th>\n",
       "      <th>Nationality</th>\n",
       "      <th>Nationality_LE</th>\n",
       "    </tr>\n",
       "  </thead>\n",
       "  <tbody>\n",
       "    <tr>\n",
       "      <th>0</th>\n",
       "      <td>Inove</td>\n",
       "      <td>12</td>\n",
       "      <td>Argentina</td>\n",
       "      <td>0</td>\n",
       "    </tr>\n",
       "    <tr>\n",
       "      <th>1</th>\n",
       "      <td>Python</td>\n",
       "      <td>29</td>\n",
       "      <td>Holanda</td>\n",
       "      <td>2</td>\n",
       "    </tr>\n",
       "    <tr>\n",
       "      <th>2</th>\n",
       "      <td>Max</td>\n",
       "      <td>35</td>\n",
       "      <td>Estados Unidos</td>\n",
       "      <td>1</td>\n",
       "    </tr>\n",
       "    <tr>\n",
       "      <th>3</th>\n",
       "      <td>Mirta</td>\n",
       "      <td>93</td>\n",
       "      <td>Argentina</td>\n",
       "      <td>0</td>\n",
       "    </tr>\n",
       "    <tr>\n",
       "      <th>4</th>\n",
       "      <td>Max</td>\n",
       "      <td>40</td>\n",
       "      <td>Estados Unidos</td>\n",
       "      <td>1</td>\n",
       "    </tr>\n",
       "    <tr>\n",
       "      <th>5</th>\n",
       "      <td>SQL</td>\n",
       "      <td>13</td>\n",
       "      <td>Inglaterra</td>\n",
       "      <td>3</td>\n",
       "    </tr>\n",
       "    <tr>\n",
       "      <th>6</th>\n",
       "      <td>SQLite</td>\n",
       "      <td>20</td>\n",
       "      <td>Estados Unidos</td>\n",
       "      <td>1</td>\n",
       "    </tr>\n",
       "  </tbody>\n",
       "</table>\n",
       "</div>"
      ],
      "text/plain": [
       "     Name  Age     Nationality  Nationality_LE\n",
       "0   Inove   12       Argentina               0\n",
       "1  Python   29         Holanda               2\n",
       "2     Max   35  Estados Unidos               1\n",
       "3   Mirta   93       Argentina               0\n",
       "4     Max   40  Estados Unidos               1\n",
       "5     SQL   13      Inglaterra               3\n",
       "6  SQLite   20  Estados Unidos               1"
      ]
     },
     "execution_count": 51,
     "metadata": {},
     "output_type": "execute_result"
    }
   ],
   "source": [
    "# Label Encoding\n",
    "df3 = df.copy()\n",
    "# Crear el Label Encoding\n",
    "from sklearn.preprocessing import LabelEncoder\n",
    "le = LabelEncoder()\n",
    "# Entrenar al encoder:\n",
    "# 1) fit --> busca la cantidad de clases posibles\n",
    "# 2) transform --> darles un número\n",
    "label_encoding = le.fit_transform(df3['Nationality'])\n",
    "# Crear una nueva columna con el resultado del encoding\n",
    "df3['Nationality_LE'] = label_encoding\n",
    "# Imprimir la cantidad de clases detectadas\n",
    "print(le.classes_)\n",
    "df3"
   ]
  },
  {
   "cell_type": "markdown",
   "metadata": {
    "id": "u6yDX0VEGYAQ"
   },
   "source": [
    "#### OneHotEncoding"
   ]
  },
  {
   "cell_type": "code",
   "execution_count": 52,
   "metadata": {
    "colab": {
     "base_uri": "https://localhost:8080/",
     "height": 266
    },
    "executionInfo": {
     "elapsed": 2584,
     "status": "ok",
     "timestamp": 1603155089694,
     "user": {
      "displayName": "Hernán Contigiani",
      "photoUrl": "https://lh3.googleusercontent.com/a-/AOh14Ggvg04lTitIUU72BS6D299tXlZG8qalV594KkKRfg=s64",
      "userId": "01142101934719343059"
     },
     "user_tz": 180
    },
    "id": "mSiOhGy9FXzp",
    "outputId": "dc1a1dc9-b4ce-407f-eccf-b10a52bec14d"
   },
   "outputs": [
    {
     "data": {
      "text/html": [
       "<div>\n",
       "<style scoped>\n",
       "    .dataframe tbody tr th:only-of-type {\n",
       "        vertical-align: middle;\n",
       "    }\n",
       "\n",
       "    .dataframe tbody tr th {\n",
       "        vertical-align: top;\n",
       "    }\n",
       "\n",
       "    .dataframe thead th {\n",
       "        text-align: right;\n",
       "    }\n",
       "</style>\n",
       "<table border=\"1\" class=\"dataframe\">\n",
       "  <thead>\n",
       "    <tr style=\"text-align: right;\">\n",
       "      <th></th>\n",
       "      <th>Argentina</th>\n",
       "      <th>Estados Unidos</th>\n",
       "      <th>Holanda</th>\n",
       "      <th>Inglaterra</th>\n",
       "    </tr>\n",
       "  </thead>\n",
       "  <tbody>\n",
       "    <tr>\n",
       "      <th>0</th>\n",
       "      <td>1</td>\n",
       "      <td>0</td>\n",
       "      <td>0</td>\n",
       "      <td>0</td>\n",
       "    </tr>\n",
       "    <tr>\n",
       "      <th>1</th>\n",
       "      <td>0</td>\n",
       "      <td>0</td>\n",
       "      <td>1</td>\n",
       "      <td>0</td>\n",
       "    </tr>\n",
       "    <tr>\n",
       "      <th>2</th>\n",
       "      <td>0</td>\n",
       "      <td>1</td>\n",
       "      <td>0</td>\n",
       "      <td>0</td>\n",
       "    </tr>\n",
       "    <tr>\n",
       "      <th>3</th>\n",
       "      <td>1</td>\n",
       "      <td>0</td>\n",
       "      <td>0</td>\n",
       "      <td>0</td>\n",
       "    </tr>\n",
       "    <tr>\n",
       "      <th>4</th>\n",
       "      <td>0</td>\n",
       "      <td>1</td>\n",
       "      <td>0</td>\n",
       "      <td>0</td>\n",
       "    </tr>\n",
       "    <tr>\n",
       "      <th>5</th>\n",
       "      <td>0</td>\n",
       "      <td>0</td>\n",
       "      <td>0</td>\n",
       "      <td>1</td>\n",
       "    </tr>\n",
       "    <tr>\n",
       "      <th>6</th>\n",
       "      <td>0</td>\n",
       "      <td>1</td>\n",
       "      <td>0</td>\n",
       "      <td>0</td>\n",
       "    </tr>\n",
       "  </tbody>\n",
       "</table>\n",
       "</div>"
      ],
      "text/plain": [
       "   Argentina  Estados Unidos  Holanda  Inglaterra\n",
       "0          1               0        0           0\n",
       "1          0               0        1           0\n",
       "2          0               1        0           0\n",
       "3          1               0        0           0\n",
       "4          0               1        0           0\n",
       "5          0               0        0           1\n",
       "6          0               1        0           0"
      ]
     },
     "execution_count": 52,
     "metadata": {},
     "output_type": "execute_result"
    }
   ],
   "source": [
    "# One Hot Encoding\n",
    "df4 = df3.copy()\n",
    "# Crear OneHotEncoding\n",
    "from sklearn.preprocessing import OneHotEncoder\n",
    "onehot_encoder = OneHotEncoder(sparse=False)\n",
    "# Para poder utilizar OneHotEncoding debe haber realizado\n",
    "# previamente el label_encoding a números\n",
    "# Entrenar al encoder:\n",
    "one_hot_encoding = onehot_encoder.fit_transform(label_encoding.reshape(-1, 1))\n",
    "# Crear las columnas con el resultado del encoder\n",
    "one_hot_encoding_df = pd.DataFrame(one_hot_encoding, columns=le.classes_, dtype=int)\n",
    "one_hot_encoding_df"
   ]
  },
  {
   "cell_type": "code",
   "execution_count": 53,
   "metadata": {
    "colab": {
     "base_uri": "https://localhost:8080/",
     "height": 266
    },
    "executionInfo": {
     "elapsed": 2909,
     "status": "ok",
     "timestamp": 1603155090027,
     "user": {
      "displayName": "Hernán Contigiani",
      "photoUrl": "https://lh3.googleusercontent.com/a-/AOh14Ggvg04lTitIUU72BS6D299tXlZG8qalV594KkKRfg=s64",
      "userId": "01142101934719343059"
     },
     "user_tz": 180
    },
    "id": "AGCkRzbIExcN",
    "outputId": "33fb368f-d749-4e74-beec-7e6c484fd346"
   },
   "outputs": [
    {
     "data": {
      "text/html": [
       "<div>\n",
       "<style scoped>\n",
       "    .dataframe tbody tr th:only-of-type {\n",
       "        vertical-align: middle;\n",
       "    }\n",
       "\n",
       "    .dataframe tbody tr th {\n",
       "        vertical-align: top;\n",
       "    }\n",
       "\n",
       "    .dataframe thead th {\n",
       "        text-align: right;\n",
       "    }\n",
       "</style>\n",
       "<table border=\"1\" class=\"dataframe\">\n",
       "  <thead>\n",
       "    <tr style=\"text-align: right;\">\n",
       "      <th></th>\n",
       "      <th>Nationality_Argentina</th>\n",
       "      <th>Nationality_Estados Unidos</th>\n",
       "      <th>Nationality_Holanda</th>\n",
       "      <th>Nationality_Inglaterra</th>\n",
       "    </tr>\n",
       "  </thead>\n",
       "  <tbody>\n",
       "    <tr>\n",
       "      <th>0</th>\n",
       "      <td>1</td>\n",
       "      <td>0</td>\n",
       "      <td>0</td>\n",
       "      <td>0</td>\n",
       "    </tr>\n",
       "    <tr>\n",
       "      <th>1</th>\n",
       "      <td>0</td>\n",
       "      <td>0</td>\n",
       "      <td>1</td>\n",
       "      <td>0</td>\n",
       "    </tr>\n",
       "    <tr>\n",
       "      <th>2</th>\n",
       "      <td>0</td>\n",
       "      <td>1</td>\n",
       "      <td>0</td>\n",
       "      <td>0</td>\n",
       "    </tr>\n",
       "    <tr>\n",
       "      <th>3</th>\n",
       "      <td>1</td>\n",
       "      <td>0</td>\n",
       "      <td>0</td>\n",
       "      <td>0</td>\n",
       "    </tr>\n",
       "    <tr>\n",
       "      <th>4</th>\n",
       "      <td>0</td>\n",
       "      <td>1</td>\n",
       "      <td>0</td>\n",
       "      <td>0</td>\n",
       "    </tr>\n",
       "    <tr>\n",
       "      <th>5</th>\n",
       "      <td>0</td>\n",
       "      <td>0</td>\n",
       "      <td>0</td>\n",
       "      <td>1</td>\n",
       "    </tr>\n",
       "    <tr>\n",
       "      <th>6</th>\n",
       "      <td>0</td>\n",
       "      <td>1</td>\n",
       "      <td>0</td>\n",
       "      <td>0</td>\n",
       "    </tr>\n",
       "  </tbody>\n",
       "</table>\n",
       "</div>"
      ],
      "text/plain": [
       "   Nationality_Argentina  Nationality_Estados Unidos  Nationality_Holanda  \\\n",
       "0                      1                           0                    0   \n",
       "1                      0                           0                    1   \n",
       "2                      0                           1                    0   \n",
       "3                      1                           0                    0   \n",
       "4                      0                           1                    0   \n",
       "5                      0                           0                    0   \n",
       "6                      0                           1                    0   \n",
       "\n",
       "   Nationality_Inglaterra  \n",
       "0                       0  \n",
       "1                       0  \n",
       "2                       0  \n",
       "3                       0  \n",
       "4                       0  \n",
       "5                       1  \n",
       "6                       0  "
      ]
     },
     "execution_count": 53,
     "metadata": {},
     "output_type": "execute_result"
    }
   ],
   "source": [
    "# Si quisieramos agregarle algun prefijo:\n",
    "one_hot_encoding__prefix_df = one_hot_encoding_df.add_prefix('Nationality_')\n",
    "one_hot_encoding__prefix_df\n"
   ]
  },
  {
   "cell_type": "code",
   "execution_count": 54,
   "metadata": {
    "colab": {
     "base_uri": "https://localhost:8080/",
     "height": 266
    },
    "executionInfo": {
     "elapsed": 2903,
     "status": "ok",
     "timestamp": 1603155090028,
     "user": {
      "displayName": "Hernán Contigiani",
      "photoUrl": "https://lh3.googleusercontent.com/a-/AOh14Ggvg04lTitIUU72BS6D299tXlZG8qalV594KkKRfg=s64",
      "userId": "01142101934719343059"
     },
     "user_tz": 180
    },
    "id": "7TwEDkh8FgAq",
    "outputId": "0f0d5057-ab69-4198-e797-b02774aa984e"
   },
   "outputs": [
    {
     "data": {
      "text/html": [
       "<div>\n",
       "<style scoped>\n",
       "    .dataframe tbody tr th:only-of-type {\n",
       "        vertical-align: middle;\n",
       "    }\n",
       "\n",
       "    .dataframe tbody tr th {\n",
       "        vertical-align: top;\n",
       "    }\n",
       "\n",
       "    .dataframe thead th {\n",
       "        text-align: right;\n",
       "    }\n",
       "</style>\n",
       "<table border=\"1\" class=\"dataframe\">\n",
       "  <thead>\n",
       "    <tr style=\"text-align: right;\">\n",
       "      <th></th>\n",
       "      <th>Name</th>\n",
       "      <th>Age</th>\n",
       "      <th>Nationality</th>\n",
       "      <th>Nationality_LE</th>\n",
       "      <th>Argentina</th>\n",
       "      <th>Estados Unidos</th>\n",
       "      <th>Holanda</th>\n",
       "      <th>Inglaterra</th>\n",
       "    </tr>\n",
       "  </thead>\n",
       "  <tbody>\n",
       "    <tr>\n",
       "      <th>0</th>\n",
       "      <td>Inove</td>\n",
       "      <td>12</td>\n",
       "      <td>Argentina</td>\n",
       "      <td>0</td>\n",
       "      <td>1</td>\n",
       "      <td>0</td>\n",
       "      <td>0</td>\n",
       "      <td>0</td>\n",
       "    </tr>\n",
       "    <tr>\n",
       "      <th>1</th>\n",
       "      <td>Python</td>\n",
       "      <td>29</td>\n",
       "      <td>Holanda</td>\n",
       "      <td>2</td>\n",
       "      <td>0</td>\n",
       "      <td>0</td>\n",
       "      <td>1</td>\n",
       "      <td>0</td>\n",
       "    </tr>\n",
       "    <tr>\n",
       "      <th>2</th>\n",
       "      <td>Max</td>\n",
       "      <td>35</td>\n",
       "      <td>Estados Unidos</td>\n",
       "      <td>1</td>\n",
       "      <td>0</td>\n",
       "      <td>1</td>\n",
       "      <td>0</td>\n",
       "      <td>0</td>\n",
       "    </tr>\n",
       "    <tr>\n",
       "      <th>3</th>\n",
       "      <td>Mirta</td>\n",
       "      <td>93</td>\n",
       "      <td>Argentina</td>\n",
       "      <td>0</td>\n",
       "      <td>1</td>\n",
       "      <td>0</td>\n",
       "      <td>0</td>\n",
       "      <td>0</td>\n",
       "    </tr>\n",
       "    <tr>\n",
       "      <th>4</th>\n",
       "      <td>Max</td>\n",
       "      <td>40</td>\n",
       "      <td>Estados Unidos</td>\n",
       "      <td>1</td>\n",
       "      <td>0</td>\n",
       "      <td>1</td>\n",
       "      <td>0</td>\n",
       "      <td>0</td>\n",
       "    </tr>\n",
       "    <tr>\n",
       "      <th>5</th>\n",
       "      <td>SQL</td>\n",
       "      <td>13</td>\n",
       "      <td>Inglaterra</td>\n",
       "      <td>3</td>\n",
       "      <td>0</td>\n",
       "      <td>0</td>\n",
       "      <td>0</td>\n",
       "      <td>1</td>\n",
       "    </tr>\n",
       "    <tr>\n",
       "      <th>6</th>\n",
       "      <td>SQLite</td>\n",
       "      <td>20</td>\n",
       "      <td>Estados Unidos</td>\n",
       "      <td>1</td>\n",
       "      <td>0</td>\n",
       "      <td>1</td>\n",
       "      <td>0</td>\n",
       "      <td>0</td>\n",
       "    </tr>\n",
       "  </tbody>\n",
       "</table>\n",
       "</div>"
      ],
      "text/plain": [
       "     Name  Age     Nationality  Nationality_LE  Argentina  Estados Unidos  \\\n",
       "0   Inove   12       Argentina               0          1               0   \n",
       "1  Python   29         Holanda               2          0               0   \n",
       "2     Max   35  Estados Unidos               1          0               1   \n",
       "3   Mirta   93       Argentina               0          1               0   \n",
       "4     Max   40  Estados Unidos               1          0               1   \n",
       "5     SQL   13      Inglaterra               3          0               0   \n",
       "6  SQLite   20  Estados Unidos               1          0               1   \n",
       "\n",
       "   Holanda  Inglaterra  \n",
       "0        0           0  \n",
       "1        1           0  \n",
       "2        0           0  \n",
       "3        0           0  \n",
       "4        0           0  \n",
       "5        0           1  \n",
       "6        0           0  "
      ]
     },
     "execution_count": 54,
     "metadata": {},
     "output_type": "execute_result"
    }
   ],
   "source": [
    "# Resultado final\n",
    "df4 = df4.join(one_hot_encoding_df)\n",
    "df4"
   ]
  },
  {
   "cell_type": "markdown",
   "metadata": {
    "id": "mlebVSCpGbJX"
   },
   "source": [
    "#### Binary Encoding"
   ]
  },
  {
   "cell_type": "code",
   "execution_count": 55,
   "metadata": {
    "executionInfo": {
     "elapsed": 2899,
     "status": "ok",
     "timestamp": 1603155090031,
     "user": {
      "displayName": "Hernán Contigiani",
      "photoUrl": "https://lh3.googleusercontent.com/a-/AOh14Ggvg04lTitIUU72BS6D299tXlZG8qalV594KkKRfg=s64",
      "userId": "01142101934719343059"
     },
     "user_tz": 180
    },
    "id": "by9SQl9jf28p"
   },
   "outputs": [],
   "source": [
    "class BinaryEncoder():\n",
    "    def __init__(self):\n",
    "        self.n_bits = 0\n",
    "    \n",
    "    def fit(self, data):\n",
    "        if data.__class__.__name__ == list.__name__:\n",
    "            self.n_bits = int(np.ceil(np.log2(max(data)+1))) + 1\n",
    "        elif type(data).__module__ == pd.core.series.__name__:          \n",
    "            self.n_bits = int(np.ceil(np.log2(data.max()+1))) + 1\n",
    "        elif type(data).__module__ == np.__name__:\n",
    "            self.n_bits = int(np.ceil(np.log2(data.max()+1))) + 1\n",
    "        else:\n",
    "            raise ValueError(\"Allowed list, numpy or pandas serie data\")\n",
    "\n",
    "    def transform(self, data):\n",
    "        binary_encoding = [format(int(x+1), '0'+str(self.n_bits)+'b') for x in data]\n",
    "        binary_encoding_split = [list(x) for x in binary_encoding]\n",
    "        binary_encoding_header = ['b'+str(x) for x in reversed(range(self.n_bits))]\n",
    "        return pd.DataFrame(binary_encoding_split, columns=binary_encoding_header, dtype=int)\n",
    "\n",
    "    def fit_transform(self, data):\n",
    "        self.fit(data)\n",
    "        return self.transform(data)"
   ]
  },
  {
   "cell_type": "code",
   "execution_count": 56,
   "metadata": {
    "colab": {
     "base_uri": "https://localhost:8080/",
     "height": 266
    },
    "executionInfo": {
     "elapsed": 2894,
     "status": "ok",
     "timestamp": 1603155090032,
     "user": {
      "displayName": "Hernán Contigiani",
      "photoUrl": "https://lh3.googleusercontent.com/a-/AOh14Ggvg04lTitIUU72BS6D299tXlZG8qalV594KkKRfg=s64",
      "userId": "01142101934719343059"
     },
     "user_tz": 180
    },
    "id": "t6l8eIgPTe81",
    "outputId": "a2788f9e-fc12-4e75-b7d8-35910ca1ea0f"
   },
   "outputs": [
    {
     "data": {
      "text/html": [
       "<div>\n",
       "<style scoped>\n",
       "    .dataframe tbody tr th:only-of-type {\n",
       "        vertical-align: middle;\n",
       "    }\n",
       "\n",
       "    .dataframe tbody tr th {\n",
       "        vertical-align: top;\n",
       "    }\n",
       "\n",
       "    .dataframe thead th {\n",
       "        text-align: right;\n",
       "    }\n",
       "</style>\n",
       "<table border=\"1\" class=\"dataframe\">\n",
       "  <thead>\n",
       "    <tr style=\"text-align: right;\">\n",
       "      <th></th>\n",
       "      <th>b2</th>\n",
       "      <th>b1</th>\n",
       "      <th>b0</th>\n",
       "    </tr>\n",
       "  </thead>\n",
       "  <tbody>\n",
       "    <tr>\n",
       "      <th>0</th>\n",
       "      <td>0</td>\n",
       "      <td>0</td>\n",
       "      <td>1</td>\n",
       "    </tr>\n",
       "    <tr>\n",
       "      <th>1</th>\n",
       "      <td>0</td>\n",
       "      <td>1</td>\n",
       "      <td>1</td>\n",
       "    </tr>\n",
       "    <tr>\n",
       "      <th>2</th>\n",
       "      <td>0</td>\n",
       "      <td>1</td>\n",
       "      <td>0</td>\n",
       "    </tr>\n",
       "    <tr>\n",
       "      <th>3</th>\n",
       "      <td>0</td>\n",
       "      <td>0</td>\n",
       "      <td>1</td>\n",
       "    </tr>\n",
       "    <tr>\n",
       "      <th>4</th>\n",
       "      <td>0</td>\n",
       "      <td>1</td>\n",
       "      <td>0</td>\n",
       "    </tr>\n",
       "    <tr>\n",
       "      <th>5</th>\n",
       "      <td>1</td>\n",
       "      <td>0</td>\n",
       "      <td>0</td>\n",
       "    </tr>\n",
       "    <tr>\n",
       "      <th>6</th>\n",
       "      <td>0</td>\n",
       "      <td>1</td>\n",
       "      <td>0</td>\n",
       "    </tr>\n",
       "  </tbody>\n",
       "</table>\n",
       "</div>"
      ],
      "text/plain": [
       "  b2 b1 b0\n",
       "0  0  0  1\n",
       "1  0  1  1\n",
       "2  0  1  0\n",
       "3  0  0  1\n",
       "4  0  1  0\n",
       "5  1  0  0\n",
       "6  0  1  0"
      ]
     },
     "execution_count": 56,
     "metadata": {},
     "output_type": "execute_result"
    }
   ],
   "source": [
    "df5 = df3.copy()\n",
    "# Crear el encoder\n",
    "be = BinaryEncoder()\n",
    "# Entrenar el encoder\n",
    "be_df = be.fit_transform(df5['Nationality_LE'])\n",
    "be_df"
   ]
  },
  {
   "cell_type": "code",
   "execution_count": 57,
   "metadata": {
    "colab": {
     "base_uri": "https://localhost:8080/",
     "height": 266
    },
    "executionInfo": {
     "elapsed": 2887,
     "status": "ok",
     "timestamp": 1603155090033,
     "user": {
      "displayName": "Hernán Contigiani",
      "photoUrl": "https://lh3.googleusercontent.com/a-/AOh14Ggvg04lTitIUU72BS6D299tXlZG8qalV594KkKRfg=s64",
      "userId": "01142101934719343059"
     },
     "user_tz": 180
    },
    "id": "5TTO-nG27H0a",
    "outputId": "e8647e8e-4d7c-42d8-b05b-c7f74d118028"
   },
   "outputs": [
    {
     "data": {
      "text/html": [
       "<div>\n",
       "<style scoped>\n",
       "    .dataframe tbody tr th:only-of-type {\n",
       "        vertical-align: middle;\n",
       "    }\n",
       "\n",
       "    .dataframe tbody tr th {\n",
       "        vertical-align: top;\n",
       "    }\n",
       "\n",
       "    .dataframe thead th {\n",
       "        text-align: right;\n",
       "    }\n",
       "</style>\n",
       "<table border=\"1\" class=\"dataframe\">\n",
       "  <thead>\n",
       "    <tr style=\"text-align: right;\">\n",
       "      <th></th>\n",
       "      <th>Name</th>\n",
       "      <th>Age</th>\n",
       "      <th>Nationality</th>\n",
       "      <th>Nationality_LE</th>\n",
       "      <th>b2</th>\n",
       "      <th>b1</th>\n",
       "      <th>b0</th>\n",
       "    </tr>\n",
       "  </thead>\n",
       "  <tbody>\n",
       "    <tr>\n",
       "      <th>0</th>\n",
       "      <td>Inove</td>\n",
       "      <td>12</td>\n",
       "      <td>Argentina</td>\n",
       "      <td>0</td>\n",
       "      <td>0</td>\n",
       "      <td>0</td>\n",
       "      <td>1</td>\n",
       "    </tr>\n",
       "    <tr>\n",
       "      <th>1</th>\n",
       "      <td>Python</td>\n",
       "      <td>29</td>\n",
       "      <td>Holanda</td>\n",
       "      <td>2</td>\n",
       "      <td>0</td>\n",
       "      <td>1</td>\n",
       "      <td>1</td>\n",
       "    </tr>\n",
       "    <tr>\n",
       "      <th>2</th>\n",
       "      <td>Max</td>\n",
       "      <td>35</td>\n",
       "      <td>Estados Unidos</td>\n",
       "      <td>1</td>\n",
       "      <td>0</td>\n",
       "      <td>1</td>\n",
       "      <td>0</td>\n",
       "    </tr>\n",
       "    <tr>\n",
       "      <th>3</th>\n",
       "      <td>Mirta</td>\n",
       "      <td>93</td>\n",
       "      <td>Argentina</td>\n",
       "      <td>0</td>\n",
       "      <td>0</td>\n",
       "      <td>0</td>\n",
       "      <td>1</td>\n",
       "    </tr>\n",
       "    <tr>\n",
       "      <th>4</th>\n",
       "      <td>Max</td>\n",
       "      <td>40</td>\n",
       "      <td>Estados Unidos</td>\n",
       "      <td>1</td>\n",
       "      <td>0</td>\n",
       "      <td>1</td>\n",
       "      <td>0</td>\n",
       "    </tr>\n",
       "    <tr>\n",
       "      <th>5</th>\n",
       "      <td>SQL</td>\n",
       "      <td>13</td>\n",
       "      <td>Inglaterra</td>\n",
       "      <td>3</td>\n",
       "      <td>1</td>\n",
       "      <td>0</td>\n",
       "      <td>0</td>\n",
       "    </tr>\n",
       "    <tr>\n",
       "      <th>6</th>\n",
       "      <td>SQLite</td>\n",
       "      <td>20</td>\n",
       "      <td>Estados Unidos</td>\n",
       "      <td>1</td>\n",
       "      <td>0</td>\n",
       "      <td>1</td>\n",
       "      <td>0</td>\n",
       "    </tr>\n",
       "  </tbody>\n",
       "</table>\n",
       "</div>"
      ],
      "text/plain": [
       "     Name  Age     Nationality  Nationality_LE b2 b1 b0\n",
       "0   Inove   12       Argentina               0  0  0  1\n",
       "1  Python   29         Holanda               2  0  1  1\n",
       "2     Max   35  Estados Unidos               1  0  1  0\n",
       "3   Mirta   93       Argentina               0  0  0  1\n",
       "4     Max   40  Estados Unidos               1  0  1  0\n",
       "5     SQL   13      Inglaterra               3  1  0  0\n",
       "6  SQLite   20  Estados Unidos               1  0  1  0"
      ]
     },
     "execution_count": 57,
     "metadata": {},
     "output_type": "execute_result"
    }
   ],
   "source": [
    "df5 = df5.join(be_df)\n",
    "df5"
   ]
  },
  {
   "cell_type": "markdown",
   "metadata": {
    "id": "oAFGkty9GgzQ"
   },
   "source": [
    "#### Codificiar nuevo valor"
   ]
  },
  {
   "cell_type": "code",
   "execution_count": 58,
   "metadata": {
    "colab": {
     "base_uri": "https://localhost:8080/",
     "height": 136
    },
    "executionInfo": {
     "elapsed": 2879,
     "status": "ok",
     "timestamp": 1603155090034,
     "user": {
      "displayName": "Hernán Contigiani",
      "photoUrl": "https://lh3.googleusercontent.com/a-/AOh14Ggvg04lTitIUU72BS6D299tXlZG8qalV594KkKRfg=s64",
      "userId": "01142101934719343059"
     },
     "user_tz": 180
    },
    "id": "1piDBWxgbvf0",
    "outputId": "f98f1d34-fa90-43b7-ccae-5d22910e2a3c"
   },
   "outputs": [
    {
     "name": "stdout",
     "output_type": "stream",
     "text": [
      "LabelEncoder:\n",
      " [2]\n",
      "OneHoteEncoding:\n",
      " [[0. 0. 1. 0.]]\n",
      "BinaryEncoder:\n",
      "   b2 b1 b0\n",
      "0  0  1  1\n"
     ]
    }
   ],
   "source": [
    "# Nuevo valor\n",
    "label = 'Holanda'\n",
    "# Transformación a label encoding\n",
    "l_encoding = le.transform([label])\n",
    "print('LabelEncoder:\\n', l_encoding)\n",
    "# Transformación a one hot encoding\n",
    "oh_encoding = onehot_encoder.transform(l_encoding.reshape(-1, 1))\n",
    "print('OneHoteEncoding:\\n', oh_encoding)\n",
    "# Transformación a binary encoding\n",
    "b_encoding = be.transform(l_encoding)\n",
    "print('BinaryEncoder:\\n', b_encoding)"
   ]
  },
  {
   "cell_type": "markdown",
   "metadata": {
    "id": "yy0NSqnhoOCC"
   },
   "source": [
    "# 4 - Estandarización y normalización"
   ]
  },
  {
   "cell_type": "code",
   "execution_count": 59,
   "metadata": {
    "executionInfo": {
     "elapsed": 994,
     "status": "ok",
     "timestamp": 1603155218387,
     "user": {
      "displayName": "Hernán Contigiani",
      "photoUrl": "https://lh3.googleusercontent.com/a-/AOh14Ggvg04lTitIUU72BS6D299tXlZG8qalV594KkKRfg=s64",
      "userId": "01142101934719343059"
     },
     "user_tz": 180
    },
    "id": "2j-xUHW6Gqgv"
   },
   "outputs": [],
   "source": [
    "# Datos que utilizaremos para ensayar\n",
    "# Datos con una distribución normal\n",
    "n1 = np.random.normal(loc=1000, scale=200, size=(1000))\n",
    "n2 = np.random.normal(loc=1400, scale=50, size=(100))\n",
    "n3 = np.random.normal(loc=2000, scale=50, size=(50))\n",
    "data = np.append(n1, n2)\n",
    "data_n = np.append(data, n3)\n",
    "\n",
    "# Datos con una distribución uniforme\n",
    "n1 = np.linspace(500, 1000, 1000)\n",
    "n2 = np.linspace(1800, 2200, 100)\n",
    "data_u = np.append(n1, n2)"
   ]
  },
  {
   "cell_type": "code",
   "execution_count": 60,
   "metadata": {
    "executionInfo": {
     "elapsed": 2862,
     "status": "ok",
     "timestamp": 1603155090036,
     "user": {
      "displayName": "Hernán Contigiani",
      "photoUrl": "https://lh3.googleusercontent.com/a-/AOh14Ggvg04lTitIUU72BS6D299tXlZG8qalV594KkKRfg=s64",
      "userId": "01142101934719343059"
     },
     "user_tz": 180
    },
    "id": "KS4kmfJ8Y2hy"
   },
   "outputs": [],
   "source": [
    "def plot_scalers(normal, uniform):\n",
    "    fig = plt.figure(figsize=(16,3))\n",
    "    ax1 = fig.add_subplot(1,2,1)\n",
    "    ax2 = fig.add_subplot(1,2,2)\n",
    "    ax1 = sns.distplot(normal, label='normal', ax=ax1)\n",
    "    ax2 = sns.distplot(uniform, label='uniform', ax=ax2)\n",
    "    ax1.legend()\n",
    "    ax2.legend()\n",
    "    plt.show()"
   ]
  },
  {
   "cell_type": "code",
   "execution_count": 61,
   "metadata": {
    "colab": {
     "base_uri": "https://localhost:8080/",
     "height": 211
    },
    "executionInfo": {
     "elapsed": 3573,
     "status": "ok",
     "timestamp": 1603155090753,
     "user": {
      "displayName": "Hernán Contigiani",
      "photoUrl": "https://lh3.googleusercontent.com/a-/AOh14Ggvg04lTitIUU72BS6D299tXlZG8qalV594KkKRfg=s64",
      "userId": "01142101934719343059"
     },
     "user_tz": 180
    },
    "id": "q79CtI4sZV3y",
    "outputId": "441ff4b2-5550-4a3c-cfc1-55503e91187d"
   },
   "outputs": [
    {
     "data": {
      "image/png": "[encoded data removed]",
      "text/plain": [
       "<Figure size 1152x216 with 2 Axes>"
      ]
     },
     "metadata": {
      "needs_background": "light"
     },
     "output_type": "display_data"
    }
   ],
   "source": [
    "plot_scalers(data_n, data_u)"
   ]
  },
  {
   "cell_type": "markdown",
   "metadata": {
    "id": "Fh2sU1rUGm8R"
   },
   "source": [
    "#### StandardScaler (estandarización)"
   ]
  },
  {
   "cell_type": "code",
   "execution_count": 62,
   "metadata": {
    "colab": {
     "base_uri": "https://localhost:8080/",
     "height": 211
    },
    "executionInfo": {
     "elapsed": 3903,
     "status": "ok",
     "timestamp": 1603155091091,
     "user": {
      "displayName": "Hernán Contigiani",
      "photoUrl": "https://lh3.googleusercontent.com/a-/AOh14Ggvg04lTitIUU72BS6D299tXlZG8qalV594KkKRfg=s64",
      "userId": "01142101934719343059"
     },
     "user_tz": 180
    },
    "id": "ljXQdEvsIFRs",
    "outputId": "9f098766-2dd7-4209-cfce-dd511ce1f5ae"
   },
   "outputs": [
    {
     "data": {
      "image/png": "[encoded data removed]",
      "text/plain": [
       "<Figure size 1152x216 with 2 Axes>"
      ]
     },
     "metadata": {
      "needs_background": "light"
     },
     "output_type": "display_data"
    }
   ],
   "source": [
    "from sklearn.preprocessing import StandardScaler\n",
    "scaler1_n = StandardScaler()\n",
    "scaler1_u = StandardScaler()\n",
    "data_n_standar = scaler1_n.fit_transform(data_n.reshape(-1, 1))\n",
    "data_u_standar = scaler1_u.fit_transform(data_u.reshape(-1, 1))\n",
    "\n",
    "plot_scalers(data_n_standar, data_u_standar)"
   ]
  },
  {
   "cell_type": "markdown",
   "metadata": {
    "id": "itjXEAn_IVZ7"
   },
   "source": [
    "#### MinMaxScaler (normalización)"
   ]
  },
  {
   "cell_type": "code",
   "execution_count": 63,
   "metadata": {
    "colab": {
     "base_uri": "https://localhost:8080/",
     "height": 211
    },
    "executionInfo": {
     "elapsed": 4627,
     "status": "ok",
     "timestamp": 1603155091823,
     "user": {
      "displayName": "Hernán Contigiani",
      "photoUrl": "https://lh3.googleusercontent.com/a-/AOh14Ggvg04lTitIUU72BS6D299tXlZG8qalV594KkKRfg=s64",
      "userId": "01142101934719343059"
     },
     "user_tz": 180
    },
    "id": "ldZ13MQUIU-d",
    "outputId": "38a37a75-0102-4528-d107-f6f4f3dd134f"
   },
   "outputs": [
    {
     "data": {
      "image/png": "[encoded data removed]",
      "text/plain": [
       "<Figure size 1152x216 with 2 Axes>"
      ]
     },
     "metadata": {
      "needs_background": "light"
     },
     "output_type": "display_data"
    }
   ],
   "source": [
    "from sklearn.preprocessing import MinMaxScaler\n",
    "scaler2_n = MinMaxScaler()\n",
    "scaler2_u = MinMaxScaler()\n",
    "data_n_norm = scaler2_n.fit_transform(data_n.reshape(-1, 1))\n",
    "data_u_norm = scaler2_u.fit_transform(data_u.reshape(-1, 1))\n",
    "\n",
    "plot_scalers(data_n_norm, data_u_norm)"
   ]
  },
  {
   "cell_type": "markdown",
   "metadata": {
    "id": "OHFceAJFLKN_"
   },
   "source": [
    "#### RobustScaler (estandarización)"
   ]
  },
  {
   "cell_type": "code",
   "execution_count": 64,
   "metadata": {
    "colab": {
     "base_uri": "https://localhost:8080/",
     "height": 211
    },
    "executionInfo": {
     "elapsed": 5154,
     "status": "ok",
     "timestamp": 1603155092360,
     "user": {
      "displayName": "Hernán Contigiani",
      "photoUrl": "https://lh3.googleusercontent.com/a-/AOh14Ggvg04lTitIUU72BS6D299tXlZG8qalV594KkKRfg=s64",
      "userId": "01142101934719343059"
     },
     "user_tz": 180
    },
    "id": "1DUPTzOWLIat",
    "outputId": "c286171b-0f63-424a-8d99-0104923b9e94"
   },
   "outputs": [
    {
     "data": {
      "image/png": "[encoded data removed]",
      "text/plain": [
       "<Figure size 1152x216 with 2 Axes>"
      ]
     },
     "metadata": {
      "needs_background": "light"
     },
     "output_type": "display_data"
    }
   ],
   "source": [
    "from sklearn.preprocessing import RobustScaler\n",
    "scaler3_n = RobustScaler()\n",
    "scaler3_u = RobustScaler()\n",
    "data_n_robust = scaler3_n.fit_transform(data_n.reshape(-1, 1))\n",
    "data_u_robust = scaler3_u.fit_transform(data_u.reshape(-1, 1))\n",
    "\n",
    "plot_scalers(data_n_robust, data_u_robust)"
   ]
  },
  {
   "cell_type": "markdown",
   "metadata": {
    "id": "221uvNzDelJe"
   },
   "source": [
    "## 5 - Métricas"
   ]
  },
  {
   "cell_type": "markdown",
   "metadata": {
    "id": "BVbruaVwfjl3"
   },
   "source": [
    "#### Métricas para valores continuos"
   ]
  },
  {
   "cell_type": "code",
   "execution_count": 65,
   "metadata": {
    "colab": {
     "base_uri": "https://localhost:8080/",
     "height": 266
    },
    "executionInfo": {
     "elapsed": 5148,
     "status": "ok",
     "timestamp": 1603155092363,
     "user": {
      "displayName": "Hernán Contigiani",
      "photoUrl": "https://lh3.googleusercontent.com/a-/AOh14Ggvg04lTitIUU72BS6D299tXlZG8qalV594KkKRfg=s64",
      "userId": "01142101934719343059"
     },
     "user_tz": 180
    },
    "id": "w8IhKbzLF3jO",
    "outputId": "af663fe2-3a40-4e15-e5bb-b7a47de46fa8"
   },
   "outputs": [
    {
     "data": {
      "text/html": [
       "<div>\n",
       "<style scoped>\n",
       "    .dataframe tbody tr th:only-of-type {\n",
       "        vertical-align: middle;\n",
       "    }\n",
       "\n",
       "    .dataframe tbody tr th {\n",
       "        vertical-align: top;\n",
       "    }\n",
       "\n",
       "    .dataframe thead th {\n",
       "        text-align: right;\n",
       "    }\n",
       "</style>\n",
       "<table border=\"1\" class=\"dataframe\">\n",
       "  <thead>\n",
       "    <tr style=\"text-align: right;\">\n",
       "      <th></th>\n",
       "      <th>Name</th>\n",
       "      <th>Age</th>\n",
       "      <th>Nationality</th>\n",
       "      <th>y_hat</th>\n",
       "    </tr>\n",
       "  </thead>\n",
       "  <tbody>\n",
       "    <tr>\n",
       "      <th>0</th>\n",
       "      <td>Inove</td>\n",
       "      <td>12</td>\n",
       "      <td>Argentina</td>\n",
       "      <td>15</td>\n",
       "    </tr>\n",
       "    <tr>\n",
       "      <th>1</th>\n",
       "      <td>Python</td>\n",
       "      <td>29</td>\n",
       "      <td>Holanda</td>\n",
       "      <td>29</td>\n",
       "    </tr>\n",
       "    <tr>\n",
       "      <th>2</th>\n",
       "      <td>Max</td>\n",
       "      <td>35</td>\n",
       "      <td>Estados Unidos</td>\n",
       "      <td>34</td>\n",
       "    </tr>\n",
       "    <tr>\n",
       "      <th>3</th>\n",
       "      <td>Mirta</td>\n",
       "      <td>93</td>\n",
       "      <td>Argentina</td>\n",
       "      <td>85</td>\n",
       "    </tr>\n",
       "    <tr>\n",
       "      <th>4</th>\n",
       "      <td>Max</td>\n",
       "      <td>40</td>\n",
       "      <td>Estados Unidos</td>\n",
       "      <td>37</td>\n",
       "    </tr>\n",
       "    <tr>\n",
       "      <th>5</th>\n",
       "      <td>SQL</td>\n",
       "      <td>13</td>\n",
       "      <td>Inglaterra</td>\n",
       "      <td>12</td>\n",
       "    </tr>\n",
       "    <tr>\n",
       "      <th>6</th>\n",
       "      <td>SQLite</td>\n",
       "      <td>20</td>\n",
       "      <td>Estados Unidos</td>\n",
       "      <td>20</td>\n",
       "    </tr>\n",
       "  </tbody>\n",
       "</table>\n",
       "</div>"
      ],
      "text/plain": [
       "     Name  Age     Nationality  y_hat\n",
       "0   Inove   12       Argentina     15\n",
       "1  Python   29         Holanda     29\n",
       "2     Max   35  Estados Unidos     34\n",
       "3   Mirta   93       Argentina     85\n",
       "4     Max   40  Estados Unidos     37\n",
       "5     SQL   13      Inglaterra     12\n",
       "6  SQLite   20  Estados Unidos     20"
      ]
     },
     "execution_count": 65,
     "metadata": {},
     "output_type": "execute_result"
    }
   ],
   "source": [
    "df6 = df.copy()\n",
    "# Deseamos predecir las edades de las personas\n",
    "df6['y_hat'] = [15, 29, 34, 85, 37, 12, 20]\n",
    "y = df6['Age']\n",
    "y_hat = df6['y_hat']\n",
    "df6"
   ]
  },
  {
   "cell_type": "code",
   "execution_count": 66,
   "metadata": {
    "colab": {
     "base_uri": "https://localhost:8080/",
     "height": 34
    },
    "executionInfo": {
     "elapsed": 5142,
     "status": "ok",
     "timestamp": 1603155092366,
     "user": {
      "displayName": "Hernán Contigiani",
      "photoUrl": "https://lh3.googleusercontent.com/a-/AOh14Ggvg04lTitIUU72BS6D299tXlZG8qalV594KkKRfg=s64",
      "userId": "01142101934719343059"
     },
     "user_tz": 180
    },
    "id": "VAp_MngVGCoB",
    "outputId": "2540c787-ac6a-40ad-e935-4fe5d4617c8d"
   },
   "outputs": [
    {
     "data": {
      "text/plain": [
       "2.2857142857142856"
      ]
     },
     "execution_count": 66,
     "metadata": {},
     "output_type": "execute_result"
    }
   ],
   "source": [
    "# Calcular el error absoluto medio (MAE)\n",
    "from sklearn.metrics import mean_absolute_error\n",
    "mean_absolute_error(y, y_hat)"
   ]
  },
  {
   "cell_type": "code",
   "execution_count": 67,
   "metadata": {
    "colab": {
     "base_uri": "https://localhost:8080/",
     "height": 34
    },
    "executionInfo": {
     "elapsed": 5136,
     "status": "ok",
     "timestamp": 1603155092368,
     "user": {
      "displayName": "Hernán Contigiani",
      "photoUrl": "https://lh3.googleusercontent.com/a-/AOh14Ggvg04lTitIUU72BS6D299tXlZG8qalV594KkKRfg=s64",
      "userId": "01142101934719343059"
     },
     "user_tz": 180
    },
    "id": "Gd6jNQ4AG8KB",
    "outputId": "0e1a2a57-128a-443c-e043-db16adb99132"
   },
   "outputs": [
    {
     "data": {
      "text/plain": [
       "12.0"
      ]
     },
     "execution_count": 67,
     "metadata": {},
     "output_type": "execute_result"
    }
   ],
   "source": [
    "# Calcular el error cuadrático medio (MSE)\n",
    "from sklearn.metrics import mean_squared_error\n",
    "mean_squared_error(y, y_hat)"
   ]
  },
  {
   "cell_type": "markdown",
   "metadata": {
    "id": "eZL2OGcWfxm0"
   },
   "source": [
    "#### Métricas para clasificación"
   ]
  },
  {
   "cell_type": "code",
   "execution_count": 68,
   "metadata": {
    "colab": {
     "base_uri": "https://localhost:8080/",
     "height": 266
    },
    "executionInfo": {
     "elapsed": 5130,
     "status": "ok",
     "timestamp": 1603155092370,
     "user": {
      "displayName": "Hernán Contigiani",
      "photoUrl": "https://lh3.googleusercontent.com/a-/AOh14Ggvg04lTitIUU72BS6D299tXlZG8qalV594KkKRfg=s64",
      "userId": "01142101934719343059"
     },
     "user_tz": 180
    },
    "id": "dM6apkRLeqRf",
    "outputId": "b815e6b9-4018-4f05-e244-c197ef6473ba"
   },
   "outputs": [
    {
     "data": {
      "text/html": [
       "<div>\n",
       "<style scoped>\n",
       "    .dataframe tbody tr th:only-of-type {\n",
       "        vertical-align: middle;\n",
       "    }\n",
       "\n",
       "    .dataframe tbody tr th {\n",
       "        vertical-align: top;\n",
       "    }\n",
       "\n",
       "    .dataframe thead th {\n",
       "        text-align: right;\n",
       "    }\n",
       "</style>\n",
       "<table border=\"1\" class=\"dataframe\">\n",
       "  <thead>\n",
       "    <tr style=\"text-align: right;\">\n",
       "      <th></th>\n",
       "      <th>Name</th>\n",
       "      <th>Age</th>\n",
       "      <th>Nationality</th>\n",
       "      <th>Argentina</th>\n",
       "      <th>y_hat</th>\n",
       "    </tr>\n",
       "  </thead>\n",
       "  <tbody>\n",
       "    <tr>\n",
       "      <th>0</th>\n",
       "      <td>Inove</td>\n",
       "      <td>12</td>\n",
       "      <td>Argentina</td>\n",
       "      <td>1</td>\n",
       "      <td>1</td>\n",
       "    </tr>\n",
       "    <tr>\n",
       "      <th>1</th>\n",
       "      <td>Python</td>\n",
       "      <td>29</td>\n",
       "      <td>Holanda</td>\n",
       "      <td>0</td>\n",
       "      <td>0</td>\n",
       "    </tr>\n",
       "    <tr>\n",
       "      <th>2</th>\n",
       "      <td>Max</td>\n",
       "      <td>35</td>\n",
       "      <td>Estados Unidos</td>\n",
       "      <td>0</td>\n",
       "      <td>0</td>\n",
       "    </tr>\n",
       "    <tr>\n",
       "      <th>3</th>\n",
       "      <td>Mirta</td>\n",
       "      <td>93</td>\n",
       "      <td>Argentina</td>\n",
       "      <td>1</td>\n",
       "      <td>0</td>\n",
       "    </tr>\n",
       "    <tr>\n",
       "      <th>4</th>\n",
       "      <td>Max</td>\n",
       "      <td>40</td>\n",
       "      <td>Estados Unidos</td>\n",
       "      <td>0</td>\n",
       "      <td>0</td>\n",
       "    </tr>\n",
       "    <tr>\n",
       "      <th>5</th>\n",
       "      <td>SQL</td>\n",
       "      <td>13</td>\n",
       "      <td>Inglaterra</td>\n",
       "      <td>0</td>\n",
       "      <td>1</td>\n",
       "    </tr>\n",
       "    <tr>\n",
       "      <th>6</th>\n",
       "      <td>SQLite</td>\n",
       "      <td>20</td>\n",
       "      <td>Estados Unidos</td>\n",
       "      <td>0</td>\n",
       "      <td>1</td>\n",
       "    </tr>\n",
       "  </tbody>\n",
       "</table>\n",
       "</div>"
      ],
      "text/plain": [
       "     Name  Age     Nationality  Argentina  y_hat\n",
       "0   Inove   12       Argentina          1      1\n",
       "1  Python   29         Holanda          0      0\n",
       "2     Max   35  Estados Unidos          0      0\n",
       "3   Mirta   93       Argentina          1      0\n",
       "4     Max   40  Estados Unidos          0      0\n",
       "5     SQL   13      Inglaterra          0      1\n",
       "6  SQLite   20  Estados Unidos          0      1"
      ]
     },
     "execution_count": 68,
     "metadata": {},
     "output_type": "execute_result"
    }
   ],
   "source": [
    "df7 = df.copy()\n",
    "# Deseamos clasificar si la nacionalidad de la persona es Argentina (1) o no(0)\n",
    "df7['Argentina'] = df6['Nationality'].apply(lambda x: 1 if x == 'Argentina' else 0)\n",
    "# Inventamos los resultados de un clasificador para evaluar\n",
    "df7['y_hat'] = [1, 0, 0, 0, 0, 1, 1]\n",
    "y = df7['Argentina']\n",
    "y_hat = df7['y_hat']\n",
    "df7"
   ]
  },
  {
   "cell_type": "code",
   "execution_count": 69,
   "metadata": {
    "colab": {
     "base_uri": "https://localhost:8080/",
     "height": 284
    },
    "executionInfo": {
     "elapsed": 5530,
     "status": "ok",
     "timestamp": 1603155092778,
     "user": {
      "displayName": "Hernán Contigiani",
      "photoUrl": "https://lh3.googleusercontent.com/a-/AOh14Ggvg04lTitIUU72BS6D299tXlZG8qalV594KkKRfg=s64",
      "userId": "01142101934719343059"
     },
     "user_tz": 180
    },
    "id": "L6bYbTxAgBe0",
    "outputId": "f93daf93-288e-4657-d36d-42ebdbc6de61"
   },
   "outputs": [
    {
     "data": {
      "image/png": "[encoded data removed]",
      "text/plain": [
       "<Figure size 432x288 with 2 Axes>"
      ]
     },
     "metadata": {
      "needs_background": "light"
     },
     "output_type": "display_data"
    }
   ],
   "source": [
    "from sklearn.metrics import confusion_matrix, ConfusionMatrixDisplay\n",
    "cm = confusion_matrix(y, y_hat)\n",
    "cmd = ConfusionMatrixDisplay(cm, display_labels=['NO_ARG','ARG'])\n",
    "cmd.plot(cmap=plt.cm.Blues)\n",
    "plt.show()"
   ]
  },
  {
   "cell_type": "code",
   "execution_count": 70,
   "metadata": {
    "colab": {
     "base_uri": "https://localhost:8080/",
     "height": 34
    },
    "executionInfo": {
     "elapsed": 5523,
     "status": "ok",
     "timestamp": 1603155092779,
     "user": {
      "displayName": "Hernán Contigiani",
      "photoUrl": "https://lh3.googleusercontent.com/a-/AOh14Ggvg04lTitIUU72BS6D299tXlZG8qalV594KkKRfg=s64",
      "userId": "01142101934719343059"
     },
     "user_tz": 180
    },
    "id": "U2zhOxpi8wjj",
    "outputId": "e2f0bdb1-6df0-46e6-f2d3-632dc8236b8f"
   },
   "outputs": [
    {
     "data": {
      "text/plain": [
       "0.5714285714285714"
      ]
     },
     "execution_count": 70,
     "metadata": {},
     "output_type": "execute_result"
    }
   ],
   "source": [
    "# Calcular la exactitud (accuracy)\n",
    "from sklearn.metrics import accuracy_score\n",
    "accuracy_score(y, y_hat, normalize=True)"
   ]
  },
  {
   "cell_type": "code",
   "execution_count": 71,
   "metadata": {
    "colab": {
     "base_uri": "https://localhost:8080/",
     "height": 34
    },
    "executionInfo": {
     "elapsed": 5515,
     "status": "ok",
     "timestamp": 1603155092779,
     "user": {
      "displayName": "Hernán Contigiani",
      "photoUrl": "https://lh3.googleusercontent.com/a-/AOh14Ggvg04lTitIUU72BS6D299tXlZG8qalV594KkKRfg=s64",
      "userId": "01142101934719343059"
     },
     "user_tz": 180
    },
    "id": "XtA34sZ792wP",
    "outputId": "20e9f97e-d40b-4b76-e346-5a5b4ad1f580"
   },
   "outputs": [
    {
     "data": {
      "text/plain": [
       "0.4"
      ]
     },
     "execution_count": 71,
     "metadata": {},
     "output_type": "execute_result"
    }
   ],
   "source": [
    "# Calcular el f1_score\n",
    "from sklearn.metrics import f1_score\n",
    "f1_score(y, y_hat)"
   ]
  }
 ],
 "metadata": {
  "colab": {
   "collapsed_sections": [],
   "name": "1_introduccion_features.ipynb",
   "provenance": [],
   "toc_visible": true
  },
  "kernelspec": {
   "display_name": "Python 3",
   "language": "python",
   "name": "python3"
  },
  "language_info": {
   "codemirror_mode": {
    "name": "ipython",
    "version": 3
   },
   "file_extension": ".py",
   "mimetype": "text/x-python",
   "name": "python",
   "nbconvert_exporter": "python",
   "pygments_lexer": "ipython3",
   "version": "3.9.4"
  }
 },
 "nbformat": 4,
 "nbformat_minor": 4
}
